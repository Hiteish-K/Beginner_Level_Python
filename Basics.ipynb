{
 "cells": [
  {
   "cell_type": "markdown",
   "id": "d5eec0ef-0776-4a7d-8d2e-2ba786364ed5",
   "metadata": {},
   "source": [
    "__BASIC PYTHON__"
   ]
  },
  {
   "cell_type": "markdown",
   "id": "6e083dd6-e7bc-47e8-af98-5eb1959ed63b",
   "metadata": {},
   "source": [
    "#Basic Print"
   ]
  },
  {
   "cell_type": "code",
   "execution_count": 217,
   "id": "06d82abb-2da2-4ced-baa0-693e6a5043ab",
   "metadata": {},
   "outputs": [
    {
     "data": {
      "text/plain": [
       "300.0"
      ]
     },
     "execution_count": 217,
     "metadata": {},
     "output_type": "execute_result"
    }
   ],
   "source": [
    "f2 = 3e2\n",
    "f2"
   ]
  },
  {
   "cell_type": "code",
   "execution_count": 218,
   "id": "d521f092-b1ae-4fc3-8588-f15a7a1debb3",
   "metadata": {},
   "outputs": [
    {
     "data": {
      "text/plain": [
       "50000.0"
      ]
     },
     "execution_count": 218,
     "metadata": {},
     "output_type": "execute_result"
    }
   ],
   "source": [
    "f4 = 5e4\n",
    "f4"
   ]
  },
  {
   "cell_type": "code",
   "execution_count": 219,
   "id": "13ca89bb-c44e-49fa-9af9-59c36df4beb6",
   "metadata": {},
   "outputs": [
    {
     "data": {
      "text/plain": [
       "23000.0"
      ]
     },
     "execution_count": 219,
     "metadata": {},
     "output_type": "execute_result"
    }
   ],
   "source": [
    "f5 = 2.3e4\n",
    "f5"
   ]
  },
  {
   "cell_type": "code",
   "execution_count": 220,
   "id": "94eef124-f34e-4ea4-a515-193141b4e67e",
   "metadata": {},
   "outputs": [
    {
     "data": {
      "text/plain": [
       "2708"
      ]
     },
     "execution_count": 220,
     "metadata": {},
     "output_type": "execute_result"
    }
   ],
   "source": [
    "num1 = 243\n",
    "num2 = 2465\n",
    "add = num1 + num2\n",
    "add"
   ]
  },
  {
   "cell_type": "code",
   "execution_count": 221,
   "id": "78c78972-fcc3-4e70-bee5-d3a7f625884e",
   "metadata": {},
   "outputs": [
    {
     "data": {
      "text/plain": [
       "140723001305656"
      ]
     },
     "execution_count": 221,
     "metadata": {},
     "output_type": "execute_result"
    }
   ],
   "source": [
    "a=5\n",
    "id(a)  #variable address"
   ]
  },
  {
   "cell_type": "code",
   "execution_count": 222,
   "id": "b0567757-a823-4647-81a9-ab8e39c7e49a",
   "metadata": {},
   "outputs": [
    {
     "data": {
      "text/plain": [
       "140723000943920"
      ]
     },
     "execution_count": 222,
     "metadata": {},
     "output_type": "execute_result"
    }
   ],
   "source": [
    "B=\"int\"\n",
    "id(B)   #Address will be different for both"
   ]
  },
  {
   "cell_type": "raw",
   "id": "572e8748-5819-4bfa-94d0-81c3d9629b19",
   "metadata": {},
   "source": [
    "# Magic methods\n",
    "\n",
    "__add__\n",
    "__sub__\n",
    "__mul__"
   ]
  },
  {
   "cell_type": "code",
   "execution_count": 223,
   "id": "4bc7e155-1a87-42f7-9ec9-c2ef1f4ddae6",
   "metadata": {},
   "outputs": [],
   "source": [
    "a = 3\n",
    "b = 6"
   ]
  },
  {
   "cell_type": "code",
   "execution_count": 224,
   "id": "ffcc8ea3-0a26-4fda-a367-74bd75cb6b72",
   "metadata": {},
   "outputs": [
    {
     "data": {
      "text/plain": [
       "9"
      ]
     },
     "execution_count": 224,
     "metadata": {},
     "output_type": "execute_result"
    }
   ],
   "source": [
    "int.__add__(3,6)"
   ]
  },
  {
   "cell_type": "code",
   "execution_count": 225,
   "id": "67757d07-5dc7-46cd-b888-22ee77df5d5c",
   "metadata": {},
   "outputs": [
    {
     "data": {
      "text/plain": [
       "-3"
      ]
     },
     "execution_count": 225,
     "metadata": {},
     "output_type": "execute_result"
    }
   ],
   "source": [
    "int.__sub__(a,b)"
   ]
  },
  {
   "cell_type": "code",
   "execution_count": 226,
   "id": "35d854fa-e64b-4076-b058-c3b7a2e9b74b",
   "metadata": {},
   "outputs": [
    {
     "data": {
      "text/plain": [
       "18"
      ]
     },
     "execution_count": 226,
     "metadata": {},
     "output_type": "execute_result"
    }
   ],
   "source": [
    "int.__mul__(b,a)"
   ]
  },
  {
   "cell_type": "markdown",
   "id": "c334f567-2b3a-4cf3-8af6-6830cf33467b",
   "metadata": {},
   "source": [
    "#Old-Style String Format"
   ]
  },
  {
   "cell_type": "code",
   "execution_count": 228,
   "id": "fc6ef00e-ec86-424b-aaca-aaa4933755df",
   "metadata": {},
   "outputs": [
    {
     "name": "stdout",
     "output_type": "stream",
     "text": [
      "My Name is Roy and I Am 22 years old\n"
     ]
    }
   ],
   "source": [
    "name=\"Roy\"\n",
    "age=22\n",
    "print('My Name is %s and I Am %d years old'%(name,age))"
   ]
  },
  {
   "cell_type": "markdown",
   "id": "00f00561-7079-40a9-9199-9a92c0a535e3",
   "metadata": {},
   "source": [
    "#Print With String"
   ]
  },
  {
   "cell_type": "code",
   "execution_count": 230,
   "id": "f2079e0d-fd0f-4665-bf59-d7088fa9bcb0",
   "metadata": {},
   "outputs": [
    {
     "name": "stdout",
     "output_type": "stream",
     "text": [
      "add 243 & 2465 is = 2708\n"
     ]
    }
   ],
   "source": [
    "num1 = 243\n",
    "num2 = 2465\n",
    "add = num1 + num2\n",
    "print('add',num1,'&',num2,'is =',add)"
   ]
  },
  {
   "cell_type": "code",
   "execution_count": 231,
   "id": "d5ce1228-eaa9-433f-9695-e9608d46a02b",
   "metadata": {},
   "outputs": [
    {
     "name": "stdout",
     "output_type": "stream",
     "text": [
      "20 x 30 = 600\n"
     ]
    }
   ],
   "source": [
    "num1=20\n",
    "num2=30\n",
    "mul=num1*num2\n",
    "print(num1,'x',num2,'=',mul)"
   ]
  },
  {
   "cell_type": "code",
   "execution_count": 232,
   "id": "ef67d174-8bf5-4f8b-99c6-c5371db2cdb9",
   "metadata": {},
   "outputs": [
    {
     "name": "stdout",
     "output_type": "stream",
     "text": [
      "20 - 30 = -10\n"
     ]
    }
   ],
   "source": [
    "\n",
    "print(num1,'-',num2,'=',num1-num2)"
   ]
  },
  {
   "cell_type": "markdown",
   "id": "a1469f29-11fa-4b7b-985d-50988fb5fb75",
   "metadata": {},
   "source": [
    "FORMAT METHOD"
   ]
  },
  {
   "cell_type": "code",
   "execution_count": 234,
   "id": "41667eb6-00cb-4361-a87d-13f23fd13d23",
   "metadata": {},
   "outputs": [
    {
     "name": "stdout",
     "output_type": "stream",
     "text": [
      "Full Name = k hiteish\n",
      "Full Name = k  hiteish\n",
      "Full Name =k hiteish\n"
     ]
    }
   ],
   "source": [
    "fname='k'\n",
    "name=' hiteish'\n",
    "fn=fname+name\n",
    "print('Full Name =',fn)\n",
    "print('Full Name = {} {}'.format(fname,name))\n",
    "print('Full Name ={}'.format(fn))"
   ]
  },
  {
   "cell_type": "code",
   "execution_count": 235,
   "id": "e09f2673-52fe-40b5-a573-5be9a48d8c47",
   "metadata": {},
   "outputs": [
    {
     "name": "stdout",
     "output_type": "stream",
     "text": [
      "ADD 6876 of 3658 = 10534\n"
     ]
    }
   ],
   "source": [
    "a=6876\n",
    "b=3658                                                     \n",
    "add=a+b\n",
    "print('ADD {} of {} = {}'.format(a,b,add))"
   ]
  },
  {
   "cell_type": "markdown",
   "id": "0c30ecf5-ecb2-40e3-b4d7-1a92c6842ad7",
   "metadata": {},
   "source": [
    "More Short Format Meythod(f string method)"
   ]
  },
  {
   "cell_type": "code",
   "execution_count": 237,
   "id": "eced6735-449e-4b62-96e4-842328d8eda6",
   "metadata": {},
   "outputs": [
    {
     "name": "stdout",
     "output_type": "stream",
     "text": [
      "ADD 6876 of 3658 = 10534\n"
     ]
    }
   ],
   "source": [
    "a=6876\n",
    "b=3658                                                     \n",
    "add=a+b\n",
    "print(f'ADD {a} of {b} = {add}')"
   ]
  },
  {
   "cell_type": "code",
   "execution_count": 238,
   "id": "769190d5-4ac2-4e5b-87e4-c85e6ee9686d",
   "metadata": {},
   "outputs": [
    {
     "name": "stdout",
     "output_type": "stream",
     "text": [
      "Full Name = k hiteish\n"
     ]
    }
   ],
   "source": [
    "fname='k'\n",
    "name=' hiteish'\n",
    "fn=fname+name\n",
    "print(f'Full Name = {fn}')"
   ]
  },
  {
   "cell_type": "markdown",
   "id": "605287df-3a6b-4c3e-b848-509c4cb922d6",
   "metadata": {},
   "source": [
    "Let Combine All ---------->>Format,f String Method"
   ]
  },
  {
   "cell_type": "code",
   "execution_count": 240,
   "id": "fc14ca05-ad76-41a8-81a0-e2c4fc853c91",
   "metadata": {},
   "outputs": [
    {
     "name": "stdout",
     "output_type": "stream",
     "text": [
      "ADD 6876 & 3658 = 10534\n",
      "SUB 6876 & 3658 = 3218\n",
      "MUL 6876 & 3658 = 25152408\n"
     ]
    }
   ],
   "source": [
    "a=6876\n",
    "b=3658 \n",
    "print('ADD',a,'&',b,'=',a+b)\n",
    "print('SUB {} & {} = {}'.format(a,b,a-b))\n",
    "print(f'MUL {a} & {b} = {a*b}')"
   ]
  },
  {
   "cell_type": "code",
   "execution_count": 241,
   "id": "9fd9eb3a-4c1a-4b6c-97c5-8286348376a4",
   "metadata": {},
   "outputs": [
    {
     "name": "stdout",
     "output_type": "stream",
     "text": [
      "a\n",
      "b\n",
      "c\n",
      "d\n"
     ]
    }
   ],
   "source": [
    "print(\"a\\nb\\nc\\nd\")"
   ]
  },
  {
   "cell_type": "markdown",
   "id": "ee8d3340-4117-4add-a8b8-9800814a6d9f",
   "metadata": {},
   "source": [
    "End Statement"
   ]
  },
  {
   "cell_type": "code",
   "execution_count": 243,
   "id": "378ca76c-8baa-4e09-a036-6d165eaf43f8",
   "metadata": {},
   "outputs": [
    {
     "name": "stdout",
     "output_type": "stream",
     "text": [
      "hello\n",
      "every one!\n"
     ]
    }
   ],
   "source": [
    "print('hello')\n",
    "print('every one!')"
   ]
  },
  {
   "cell_type": "code",
   "execution_count": 244,
   "id": "ad6ad73a-2ded-4ebd-8fbc-b927f03e24c9",
   "metadata": {},
   "outputs": [
    {
     "name": "stdout",
     "output_type": "stream",
     "text": [
      "hello every one!\n"
     ]
    }
   ],
   "source": [
    "print('hello', end='')\n",
    "print(' every one!')  #if u want print hello every one!"
   ]
  },
  {
   "cell_type": "markdown",
   "id": "29d06ba1-f91d-440c-aff5-c1351a7949b5",
   "metadata": {},
   "source": [
    "Seprator"
   ]
  },
  {
   "cell_type": "code",
   "execution_count": 246,
   "id": "23e82736-c2a9-48ed-8492-825e76240129",
   "metadata": {},
   "outputs": [
    {
     "name": "stdout",
     "output_type": "stream",
     "text": [
      "hello every one!\n"
     ]
    }
   ],
   "source": [
    "print('hello','every','one!', sep=' ')"
   ]
  },
  {
   "cell_type": "code",
   "execution_count": 247,
   "id": "46cfa87a-fb44-4984-862e-1eb4e6d64236",
   "metadata": {},
   "outputs": [
    {
     "name": "stdout",
     "output_type": "stream",
     "text": [
      "hello@every@one!\n"
     ]
    }
   ],
   "source": [
    "print('hello','every','one!', sep='@')"
   ]
  },
  {
   "cell_type": "code",
   "execution_count": 248,
   "id": "f492a626-c6b8-400d-97cf-ec8d63191cc1",
   "metadata": {},
   "outputs": [
    {
     "name": "stdout",
     "output_type": "stream",
     "text": [
      "hello--->every--->one!\n"
     ]
    }
   ],
   "source": [
    "print('hello','every','one!', sep='--->')"
   ]
  },
  {
   "cell_type": "code",
   "execution_count": 249,
   "id": "c015a1af-bf7e-4f0d-973f-d482f5383fe2",
   "metadata": {},
   "outputs": [
    {
     "name": "stdout",
     "output_type": "stream",
     "text": [
      "Hello\n",
      "World\n"
     ]
    }
   ],
   "source": [
    "print(\"Hello\\nWorld\")"
   ]
  },
  {
   "cell_type": "code",
   "execution_count": 250,
   "id": "c83569e2-eece-40eb-9ee3-40fee8118e08",
   "metadata": {},
   "outputs": [
    {
     "name": "stdout",
     "output_type": "stream",
     "text": [
      "Hello\tWorld\n"
     ]
    }
   ],
   "source": [
    "print(\"Hello\\tWorld\")"
   ]
  },
  {
   "cell_type": "markdown",
   "id": "3e04181e-6757-474f-bb97-a12c6ebfba50",
   "metadata": {},
   "source": [
    "Combind Both"
   ]
  },
  {
   "cell_type": "code",
   "execution_count": 252,
   "id": "2b5fbfdc-e362-4d73-b01a-20bfd43a7d61",
   "metadata": {},
   "outputs": [
    {
     "name": "stdout",
     "output_type": "stream",
     "text": [
      "1,2,3,4,5.\n"
     ]
    }
   ],
   "source": [
    "print('1,2,3',end='')\n",
    "print(',4,5.',sep='')"
   ]
  },
  {
   "cell_type": "code",
   "execution_count": null,
   "id": "07699b3c-7eb1-4fd6-95c2-448007738941",
   "metadata": {},
   "outputs": [],
   "source": [
    "import sys\n",
    "import keyword\n",
    "import operator\n",
    "from datetime import datatime\n",
    "import os"
   ]
  },
  {
   "cell_type": "code",
   "execution_count": 323,
   "id": "ac1d3ee5-2a17-482f-b05b-a5627417d692",
   "metadata": {},
   "outputs": [
    {
     "name": "stdout",
     "output_type": "stream",
     "text": [
      "['False', 'None', 'True', 'and', 'as', 'assert', 'async', 'await', 'break', 'class', 'continue', 'def', 'del', 'elif', 'else', 'except', 'finally', 'for', 'from', 'global', 'if', 'import', 'in', 'is', 'lambda', 'nonlocal', 'not', 'or', 'pass', 'raise', 'return', 'try', 'while', 'with', 'yield']\n"
     ]
    }
   ],
   "source": [
    "print(keyword.kwlist)"
   ]
  },
  {
   "cell_type": "code",
   "execution_count": 325,
   "id": "22151df4-4f9f-4eb2-b521-8ed91aa4eee5",
   "metadata": {},
   "outputs": [
    {
     "data": {
      "text/plain": [
       "35"
      ]
     },
     "execution_count": 325,
     "metadata": {},
     "output_type": "execute_result"
    }
   ],
   "source": [
    "len(keyword.kwlist)"
   ]
  },
  {
   "cell_type": "markdown",
   "id": "14b53e71-8f55-4b3a-8e4e-c58656874330",
   "metadata": {},
   "source": [
    "Statements   ----->hex(id)=show location of data"
   ]
  },
  {
   "cell_type": "code",
   "execution_count": 327,
   "id": "d754fc20-1558-4296-bbfd-abbc046cf028",
   "metadata": {},
   "outputs": [
    {
     "data": {
      "text/plain": [
       "(20, 20, 20)"
      ]
     },
     "execution_count": 327,
     "metadata": {},
     "output_type": "execute_result"
    }
   ],
   "source": [
    "p = 20\n",
    "q = 20\n",
    "r = q\n",
    "p,q,r"
   ]
  },
  {
   "cell_type": "code",
   "execution_count": 329,
   "id": "fe789f98-98e9-46ac-802e-022363096236",
   "metadata": {},
   "outputs": [
    {
     "data": {
      "text/plain": [
       "(20, int, '0x7ffca0812c18')"
      ]
     },
     "execution_count": 329,
     "metadata": {},
     "output_type": "execute_result"
    }
   ],
   "source": [
    "p = 20\n",
    "q = 20\n",
    "r = q\n",
    "p,type(p),hex(id(p))"
   ]
  },
  {
   "cell_type": "code",
   "execution_count": 331,
   "id": "b548c0ba-264f-43be-958e-3876a256053f",
   "metadata": {},
   "outputs": [
    {
     "data": {
      "text/plain": [
       "(20, int, '0x7ffca0812c18')"
      ]
     },
     "execution_count": 331,
     "metadata": {},
     "output_type": "execute_result"
    }
   ],
   "source": [
    "q,type(q),hex(id(q))"
   ]
  },
  {
   "cell_type": "code",
   "execution_count": 333,
   "id": "53f46c67-d43d-4adf-826a-7a76dc294704",
   "metadata": {},
   "outputs": [
    {
     "data": {
      "text/plain": [
       "(20, int, '0x7ffca0812c18')"
      ]
     },
     "execution_count": 333,
     "metadata": {},
     "output_type": "execute_result"
    }
   ],
   "source": [
    "r,type(r),hex(id(r))                 #20->p,q,r---store at one place"
   ]
  },
  {
   "cell_type": "markdown",
   "id": "1472b13e-bafa-4bf9-847c-a713802f089d",
   "metadata": {},
   "source": [
    "Assigment ------> Variable Assigment, Multiple Assigment"
   ]
  },
  {
   "cell_type": "code",
   "execution_count": 335,
   "id": "03feed59-0cab-4615-bc96-7e5420ffe7e6",
   "metadata": {},
   "outputs": [
    {
     "name": "stdout",
     "output_type": "stream",
     "text": [
      "First name: KENCHA\n",
      "Last name:  HITEISH\n",
      "Country:  HYD\n",
      "City:  TELENGANA\n",
      "Age:  407\n",
      "First name length: 6\n",
      "Last name length:  7\n"
     ]
    }
   ],
   "source": [
    "# Variables in Python\n",
    "\n",
    "first_name = 'KENCHA'\n",
    "last_name = 'HITEISH'\n",
    "country = 'HYD'\n",
    "city = 'TELENGANA'\n",
    "age = 407\n",
    "\n",
    "print('First name:', first_name)\n",
    "print('Last name: ', last_name)\n",
    "print('Country: ', country)\n",
    "print('City: ', city)\n",
    "print('Age: ', age)\n",
    "print('First name length:', len(first_name))\n",
    "print('Last name length: ', len(last_name))"
   ]
  },
  {
   "cell_type": "code",
   "execution_count": 336,
   "id": "92c024e1-95b6-4ca8-b47d-eee5f2596896",
   "metadata": {},
   "outputs": [
    {
     "name": "stdout",
     "output_type": "stream",
     "text": [
      "6358\n",
      "gum\n",
      "1\n"
     ]
    }
   ],
   "source": [
    "#Variable Assigment\n",
    "intvar=6358\n",
    "strvar='gum'\n",
    "boolvar=1\n",
    "\n",
    "print(intvar)\n",
    "print(strvar)\n",
    "print(boolvar)"
   ]
  },
  {
   "cell_type": "code",
   "execution_count": 337,
   "id": "b7a2ab38-e39c-4ee4-9df1-2878a8f039d6",
   "metadata": {},
   "outputs": [
    {
     "name": "stdout",
     "output_type": "stream",
     "text": [
      "6358\n",
      "gum\n",
      "1\n"
     ]
    }
   ],
   "source": [
    "#Multiple Assigment\n",
    "intvar,strvar,boolvar=6358,'gum',1\n",
    "\n",
    "print(intvar)\n",
    "print(strvar)\n",
    "print(boolvar)"
   ]
  },
  {
   "cell_type": "code",
   "execution_count": 338,
   "id": "b9fc3233-f2d8-4921-bb54-66afc6721c7b",
   "metadata": {},
   "outputs": [
    {
     "name": "stdout",
     "output_type": "stream",
     "text": [
      "78 78 78 78 78\n"
     ]
    }
   ],
   "source": [
    "a=b=c=d=e=78\n",
    "print(a,b,c,d,e)"
   ]
  },
  {
   "cell_type": "markdown",
   "id": "27598ef6-07b3-4786-8fa1-bfe7bf469690",
   "metadata": {},
   "source": [
    "DATA TYPES ----> int,bool,float,str,complex"
   ]
  },
  {
   "cell_type": "markdown",
   "id": "9572c699-ee5e-4102-aaf6-1c50f497d9dc",
   "metadata": {},
   "source": [
    " #int"
   ]
  },
  {
   "cell_type": "code",
   "execution_count": 341,
   "id": "1783676a-3900-4b89-91a1-b44e5befad49",
   "metadata": {},
   "outputs": [
    {
     "data": {
      "text/plain": [
       "(5576697, int)"
      ]
     },
     "execution_count": 341,
     "metadata": {},
     "output_type": "execute_result"
    }
   ],
   "source": [
    "Int=5576697\n",
    "Int,type(Int)         "
   ]
  },
  {
   "cell_type": "code",
   "execution_count": 342,
   "id": "f77c3579-6a68-45da-9483-a783e6483f1a",
   "metadata": {},
   "outputs": [
    {
     "data": {
      "text/plain": [
       "int"
      ]
     },
     "execution_count": 342,
     "metadata": {},
     "output_type": "execute_result"
    }
   ],
   "source": [
    "a=476\n",
    "type(a)"
   ]
  },
  {
   "cell_type": "markdown",
   "id": "961339cb-df76-4e7e-90e8-f4c19fa54589",
   "metadata": {},
   "source": [
    "#float"
   ]
  },
  {
   "cell_type": "code",
   "execution_count": 344,
   "id": "71707ed2-77b4-4ea9-8c72-0a9ccd7773ce",
   "metadata": {
    "jp-MarkdownHeadingCollapsed": true
   },
   "outputs": [
    {
     "data": {
      "text/plain": [
       "(325.5704, float)"
      ]
     },
     "execution_count": 344,
     "metadata": {},
     "output_type": "execute_result"
    }
   ],
   "source": [
    "Float=325.5704\n",
    "Float,type(Float)    "
   ]
  },
  {
   "cell_type": "code",
   "execution_count": 345,
   "id": "b3e1b4f1-ceab-4238-afe1-eda9335a4617",
   "metadata": {},
   "outputs": [
    {
     "data": {
      "text/plain": [
       "float"
      ]
     },
     "execution_count": 345,
     "metadata": {},
     "output_type": "execute_result"
    }
   ],
   "source": [
    "b=33.3\n",
    "type(b)"
   ]
  },
  {
   "cell_type": "markdown",
   "id": "7a4c74a3-d243-4428-862b-12a8b37f3498",
   "metadata": {},
   "source": [
    "#Complex"
   ]
  },
  {
   "cell_type": "code",
   "execution_count": 347,
   "id": "f572f3d2-3292-49a4-b41a-b29dea4253cc",
   "metadata": {},
   "outputs": [
    {
     "data": {
      "text/plain": [
       "((9+9j), complex)"
      ]
     },
     "execution_count": 347,
     "metadata": {},
     "output_type": "execute_result"
    }
   ],
   "source": [
    "Com=9+9j\n",
    "Com,type(Com)"
   ]
  },
  {
   "cell_type": "code",
   "execution_count": 348,
   "id": "29355838-057b-43dd-af4f-849d23e1c1a5",
   "metadata": {},
   "outputs": [
    {
     "data": {
      "text/plain": [
       "(10+78j)"
      ]
     },
     "execution_count": 348,
     "metadata": {},
     "output_type": "execute_result"
    }
   ],
   "source": [
    "a=10+78j\n",
    "a"
   ]
  },
  {
   "cell_type": "code",
   "execution_count": 349,
   "id": "2db6f2bf-861e-4f7f-b8be-c1f147b166ea",
   "metadata": {},
   "outputs": [
    {
     "data": {
      "text/plain": [
       "10.0"
      ]
     },
     "execution_count": 349,
     "metadata": {},
     "output_type": "execute_result"
    }
   ],
   "source": [
    "a.real"
   ]
  },
  {
   "cell_type": "code",
   "execution_count": 350,
   "id": "12e66084-0fd4-4c1e-9c55-6d9820e928dd",
   "metadata": {},
   "outputs": [
    {
     "data": {
      "text/plain": [
       "78.0"
      ]
     },
     "execution_count": 350,
     "metadata": {},
     "output_type": "execute_result"
    }
   ],
   "source": [
    "a.imag"
   ]
  },
  {
   "cell_type": "code",
   "execution_count": 351,
   "id": "f92439f2-784d-4241-9d8e-8e2f8c95a3f8",
   "metadata": {},
   "outputs": [
    {
     "name": "stdout",
     "output_type": "stream",
     "text": [
      "32\n"
     ]
    }
   ],
   "source": [
    "print(sys.getsizeof(Com)) # size of float object in bytes"
   ]
  },
  {
   "cell_type": "code",
   "execution_count": 352,
   "id": "27bc1165-3c95-4976-89cc-93260dc388b3",
   "metadata": {},
   "outputs": [
    {
     "name": "stdout",
     "output_type": "stream",
     "text": [
      "28\n"
     ]
    }
   ],
   "source": [
    "print(sys.getsizeof(Int)) # size of float object in bytes"
   ]
  },
  {
   "cell_type": "code",
   "execution_count": 353,
   "id": "433915cb-f7be-41ef-a9cf-e8269a8eb772",
   "metadata": {},
   "outputs": [
    {
     "data": {
      "text/plain": [
       "True"
      ]
     },
     "execution_count": 353,
     "metadata": {},
     "output_type": "execute_result"
    }
   ],
   "source": [
    "isinstance(Com, complex) # val3 is an instance of"
   ]
  },
  {
   "cell_type": "code",
   "execution_count": 354,
   "id": "523d3d32-ed6a-4013-93f5-c6bcbd86323d",
   "metadata": {},
   "outputs": [
    {
     "data": {
      "text/plain": [
       "False"
      ]
     },
     "execution_count": 354,
     "metadata": {},
     "output_type": "execute_result"
    }
   ],
   "source": [
    "isinstance(Int, complex) # val3 is an instance of"
   ]
  },
  {
   "cell_type": "markdown",
   "id": "416fe989-bc29-4ef8-89b5-102f31a863c6",
   "metadata": {
    "jp-MarkdownHeadingCollapsed": true
   },
   "source": [
    "#Boolean -----> true,false&none should start with cap letter"
   ]
  },
  {
   "cell_type": "code",
   "execution_count": 356,
   "id": "540b7e87-cfe2-468a-a228-293bf9bdf9ac",
   "metadata": {},
   "outputs": [
    {
     "name": "stdout",
     "output_type": "stream",
     "text": [
      "True False\n"
     ]
    },
    {
     "data": {
      "text/plain": [
       "True"
      ]
     },
     "execution_count": 356,
     "metadata": {},
     "output_type": "execute_result"
    }
   ],
   "source": [
    "a=True\n",
    "b=False\n",
    "print(a,b)\n",
    "isinstance(a, bool)"
   ]
  },
  {
   "cell_type": "code",
   "execution_count": 409,
   "id": "a8d8340b-a7eb-4143-8672-3fed5486c56b",
   "metadata": {},
   "outputs": [
    {
     "data": {
      "text/plain": [
       "True"
      ]
     },
     "execution_count": 409,
     "metadata": {},
     "output_type": "execute_result"
    }
   ],
   "source": [
    "True\n"
   ]
  },
  {
   "cell_type": "code",
   "execution_count": 410,
   "id": "b8ebf571-17df-4845-938e-c7e6f543c36f",
   "metadata": {},
   "outputs": [
    {
     "data": {
      "text/plain": [
       "False"
      ]
     },
     "execution_count": 410,
     "metadata": {},
     "output_type": "execute_result"
    }
   ],
   "source": [
    "False"
   ]
  },
  {
   "cell_type": "code",
   "execution_count": 411,
   "id": "6da1056b-e7d2-481e-b816-737c2e70e434",
   "metadata": {},
   "outputs": [],
   "source": [
    "None"
   ]
  },
  {
   "cell_type": "code",
   "execution_count": 412,
   "id": "fcf7a5ce-4c0c-46f1-8ebc-928238217b3e",
   "metadata": {},
   "outputs": [
    {
     "ename": "TypeError",
     "evalue": "unsupported operand type(s) for +: 'int' and 'NoneType'",
     "output_type": "error",
     "traceback": [
      "\u001b[1;31m---------------------------------------------------------------------------\u001b[0m",
      "\u001b[1;31mTypeError\u001b[0m                                 Traceback (most recent call last)",
      "Cell \u001b[1;32mIn[412], line 1\u001b[0m\n\u001b[1;32m----> 1\u001b[0m \u001b[38;5;28;01mTrue\u001b[39;00m \u001b[38;5;241m+\u001b[39m \u001b[38;5;28;01mFalse\u001b[39;00m \u001b[38;5;241m+\u001b[39m \u001b[38;5;28;01mNone\u001b[39;00m\n",
      "\u001b[1;31mTypeError\u001b[0m: unsupported operand type(s) for +: 'int' and 'NoneType'"
     ]
    }
   ],
   "source": [
    "True + False + None\n"
   ]
  },
  {
   "cell_type": "code",
   "execution_count": 469,
   "id": "f55e502c-a3fd-4fc4-95c5-328c83757f7a",
   "metadata": {},
   "outputs": [
    {
     "data": {
      "text/plain": [
       "2"
      ]
     },
     "execution_count": 469,
     "metadata": {},
     "output_type": "execute_result"
    }
   ],
   "source": [
    "True + True"
   ]
  },
  {
   "cell_type": "code",
   "execution_count": 470,
   "id": "0f542871-f2f3-46b0-9298-f9e218a6bdf5",
   "metadata": {},
   "outputs": [
    {
     "data": {
      "text/plain": [
       "1"
      ]
     },
     "execution_count": 470,
     "metadata": {},
     "output_type": "execute_result"
    }
   ],
   "source": [
    "True - False"
   ]
  },
  {
   "cell_type": "code",
   "execution_count": 471,
   "id": "5cb60ba1-d233-410a-90dc-8f599ba72bf8",
   "metadata": {},
   "outputs": [
    {
     "data": {
      "text/plain": [
       "1"
      ]
     },
     "execution_count": 471,
     "metadata": {},
     "output_type": "execute_result"
    }
   ],
   "source": [
    "True - (False * True) "
   ]
  },
  {
   "cell_type": "code",
   "execution_count": 472,
   "id": "87e16d53-32ec-4ffb-9f28-e29171f15d61",
   "metadata": {},
   "outputs": [
    {
     "name": "stdout",
     "output_type": "stream",
     "text": [
      "2\n"
     ]
    }
   ],
   "source": [
    "print(True*2)"
   ]
  },
  {
   "cell_type": "code",
   "execution_count": 473,
   "id": "eedb8909-2cd7-411b-a6fd-aed2afd43c5a",
   "metadata": {},
   "outputs": [
    {
     "data": {
      "text/plain": [
       "True"
      ]
     },
     "execution_count": 473,
     "metadata": {},
     "output_type": "execute_result"
    }
   ],
   "source": [
    "bool(1)"
   ]
  },
  {
   "cell_type": "code",
   "execution_count": 474,
   "id": "51613ab8-50a1-4dc1-bbe3-d2a86a98eb52",
   "metadata": {},
   "outputs": [
    {
     "data": {
      "text/plain": [
       "False"
      ]
     },
     "execution_count": 474,
     "metadata": {},
     "output_type": "execute_result"
    }
   ],
   "source": [
    "bool(0)"
   ]
  },
  {
   "cell_type": "code",
   "execution_count": 475,
   "id": "66b63c94-6edd-4c53-abc8-7c60ecac05d2",
   "metadata": {},
   "outputs": [
    {
     "data": {
      "text/plain": [
       "False"
      ]
     },
     "execution_count": 475,
     "metadata": {},
     "output_type": "execute_result"
    }
   ],
   "source": [
    "bool(None)"
   ]
  },
  {
   "cell_type": "markdown",
   "id": "91c47b33-ecff-425d-96fe-c37aebef382c",
   "metadata": {},
   "source": [
    "#STRING"
   ]
  },
  {
   "cell_type": "code",
   "execution_count": 477,
   "id": "2d733df0-603c-4120-a4ad-efb9a271e7fc",
   "metadata": {},
   "outputs": [
    {
     "data": {
      "text/plain": [
       "'Hiteish'"
      ]
     },
     "execution_count": 477,
     "metadata": {},
     "output_type": "execute_result"
    }
   ],
   "source": [
    "Str='Hiteish'  # Define string using single quotes\n",
    "Str"
   ]
  },
  {
   "cell_type": "code",
   "execution_count": 478,
   "id": "1e580468-93c4-4ab1-8e1b-349c58adec48",
   "metadata": {},
   "outputs": [
    {
     "data": {
      "text/plain": [
       "'Ramesh'"
      ]
     },
     "execution_count": 478,
     "metadata": {},
     "output_type": "execute_result"
    }
   ],
   "source": [
    "Str1=\"Ramesh\"   # Define string using double quotes\n",
    "Str1"
   ]
  },
  {
   "cell_type": "code",
   "execution_count": 479,
   "id": "dd78e49b-ff47-4eed-8d85-e783830eee86",
   "metadata": {},
   "outputs": [
    {
     "data": {
      "text/plain": [
       "'Hello\\nWorld'"
      ]
     },
     "execution_count": 479,
     "metadata": {},
     "output_type": "execute_result"
    }
   ],
   "source": [
    "Str2='''Hello\n",
    "World'''\n",
    "Str2"
   ]
  },
  {
   "cell_type": "code",
   "execution_count": 480,
   "id": "4612259b-2796-430d-9217-b3ff1cb85f2e",
   "metadata": {},
   "outputs": [
    {
     "data": {
      "text/plain": [
       "'Hello World Code'"
      ]
     },
     "execution_count": 480,
     "metadata": {},
     "output_type": "execute_result"
    }
   ],
   "source": [
    "Str3=('Hello'\n",
    "      ' World'\n",
    "      ' Code')\n",
    "Str3"
   ]
  },
  {
   "cell_type": "code",
   "execution_count": 481,
   "id": "757e60ce-6414-4d74-935f-74e564983e4c",
   "metadata": {},
   "outputs": [
    {
     "data": {
      "text/plain": [
       "'hiteish'"
      ]
     },
     "execution_count": 481,
     "metadata": {},
     "output_type": "execute_result"
    }
   ],
   "source": [
    "s3 = 'hiteish'\n",
    "s3"
   ]
  },
  {
   "cell_type": "code",
   "execution_count": 482,
   "id": "a4c1c9df-7d8d-46cc-b47d-7231b97bd095",
   "metadata": {},
   "outputs": [
    {
     "data": {
      "text/plain": [
       "'hi! hi! hi! hi! hi! '"
      ]
     },
     "execution_count": 482,
     "metadata": {},
     "output_type": "execute_result"
    }
   ],
   "source": [
    "Str4='hi! '\n",
    "Str=Str4*5\n",
    "Str"
   ]
  },
  {
   "cell_type": "code",
   "execution_count": 483,
   "id": "49df7e3e-b159-4b28-a337-5b2987119e1b",
   "metadata": {},
   "outputs": [
    {
     "name": "stdout",
     "output_type": "stream",
     "text": [
      "Python is a high-level,\n",
      "open-source programming language \n",
      "that's used for many tasks,\n",
      "including web development,\n",
      "data analysis, \n",
      "and machine learning.\n"
     ]
    }
   ],
   "source": [
    "multiline_string = '''Python is a high-level,\n",
    "open-source programming language \n",
    "that's used for many tasks,\n",
    "including web development,\n",
    "data analysis, \n",
    "and machine learning.'''\n",
    "print(multiline_string)"
   ]
  },
  {
   "cell_type": "code",
   "execution_count": 484,
   "id": "e3ff9a60-cf2d-4e2d-8bbc-6ccbd8cd4e65",
   "metadata": {},
   "outputs": [
    {
     "data": {
      "text/plain": [
       "'k hiteish'"
      ]
     },
     "execution_count": 484,
     "metadata": {},
     "output_type": "execute_result"
    }
   ],
   "source": [
    "s6= 'k hiteish'\n",
    "s6"
   ]
  },
  {
   "cell_type": "code",
   "execution_count": 485,
   "id": "a3be192f-001c-495a-a043-74c5cf6c5594",
   "metadata": {},
   "outputs": [
    {
     "data": {
      "text/plain": [
       "'i'"
      ]
     },
     "execution_count": 485,
     "metadata": {},
     "output_type": "execute_result"
    }
   ],
   "source": [
    "s6[6]"
   ]
  },
  {
   "cell_type": "code",
   "execution_count": 486,
   "id": "6f294ec6-0bc8-487b-896d-445e56570504",
   "metadata": {},
   "outputs": [
    {
     "data": {
      "text/plain": [
       "'t'"
      ]
     },
     "execution_count": 486,
     "metadata": {},
     "output_type": "execute_result"
    }
   ],
   "source": [
    "s6[-5]"
   ]
  },
  {
   "cell_type": "markdown",
   "id": "c39f5fb2-5307-45ad-8f49-e009160f11cb",
   "metadata": {},
   "source": [
    "#[L:R] r==n-1 //slicing"
   ]
  },
  {
   "cell_type": "raw",
   "id": "fc092d6a-7d6e-4873-b748-20eee3fedf97",
   "metadata": {},
   "source": [
    "String Index\n",
    "-Forward Index [0,n]---->always starts from 0\n",
    "-Backward Index [-1,-n]"
   ]
  },
  {
   "cell_type": "code",
   "execution_count": 488,
   "id": "fd403738-be0e-4707-9934-343836f6df3f",
   "metadata": {},
   "outputs": [
    {
     "data": {
      "text/plain": [
       "'k hit'"
      ]
     },
     "execution_count": 488,
     "metadata": {},
     "output_type": "execute_result"
    }
   ],
   "source": [
    "s6[0:5]  #5-1"
   ]
  },
  {
   "cell_type": "code",
   "execution_count": 489,
   "id": "7206bf70-f2a8-4edd-882a-bba1ca58c539",
   "metadata": {},
   "outputs": [
    {
     "data": {
      "text/plain": [
       "'teis'"
      ]
     },
     "execution_count": 489,
     "metadata": {},
     "output_type": "execute_result"
    }
   ],
   "source": [
    "s6[-5:-1]"
   ]
  },
  {
   "cell_type": "code",
   "execution_count": 490,
   "id": "5c4554be-ff68-4f0e-8460-1fd2aeae8941",
   "metadata": {},
   "outputs": [
    {
     "data": {
      "text/plain": [
       "'ei'"
      ]
     },
     "execution_count": 490,
     "metadata": {},
     "output_type": "execute_result"
    }
   ],
   "source": [
    "s6[-4:7]"
   ]
  },
  {
   "cell_type": "markdown",
   "id": "26f0fe73-c86d-410a-aeba-43f8b6670b50",
   "metadata": {},
   "source": [
    "#Advance slicing. [R,L,Step to skip]"
   ]
  },
  {
   "cell_type": "code",
   "execution_count": 492,
   "id": "7bc8b6f9-b927-4d37-bca1-928b5cd65446",
   "metadata": {},
   "outputs": [
    {
     "data": {
      "text/plain": [
       "'kh'"
      ]
     },
     "execution_count": 492,
     "metadata": {},
     "output_type": "execute_result"
    }
   ],
   "source": [
    "s6[0:3:2]"
   ]
  },
  {
   "cell_type": "code",
   "execution_count": 493,
   "id": "403ceb9e-eb8f-427e-af04-364c3b0acd93",
   "metadata": {},
   "outputs": [
    {
     "data": {
      "text/plain": [
       "'khti'"
      ]
     },
     "execution_count": 493,
     "metadata": {},
     "output_type": "execute_result"
    }
   ],
   "source": [
    "s6[0:7:2]"
   ]
  },
  {
   "cell_type": "code",
   "execution_count": 494,
   "id": "80d52e3f-1d03-4a42-a34f-bf8ed074b032",
   "metadata": {},
   "outputs": [
    {
     "data": {
      "text/plain": [
       "'hi'"
      ]
     },
     "execution_count": 494,
     "metadata": {},
     "output_type": "execute_result"
    }
   ],
   "source": [
    "s6[2:7:4]"
   ]
  },
  {
   "cell_type": "code",
   "execution_count": 495,
   "id": "cebd498b-02a2-4418-b314-812e9e575502",
   "metadata": {},
   "outputs": [
    {
     "data": {
      "text/plain": [
       "'khiteish'"
      ]
     },
     "execution_count": 495,
     "metadata": {},
     "output_type": "execute_result"
    }
   ],
   "source": [
    "s1 = 'k'\n",
    "s2 = 'hiteish'\n",
    "s1+s2"
   ]
  },
  {
   "cell_type": "code",
   "execution_count": 496,
   "id": "568c8108-3882-419a-a21e-d081d82cc95b",
   "metadata": {},
   "outputs": [
    {
     "data": {
      "text/plain": [
       "'k hiteish'"
      ]
     },
     "execution_count": 496,
     "metadata": {},
     "output_type": "execute_result"
    }
   ],
   "source": [
    "s1 = 'k'\n",
    "s2 = ' hiteish'\n",
    "s1+ s2"
   ]
  },
  {
   "cell_type": "markdown",
   "id": "f99c6315-6a5a-42e5-819a-f8263788742e",
   "metadata": {},
   "source": [
    "String Concatenation"
   ]
  },
  {
   "cell_type": "code",
   "execution_count": 498,
   "id": "cfd4d7de-21fe-4fb7-9ef3-2780e10a3fe9",
   "metadata": {},
   "outputs": [
    {
     "name": "stdout",
     "output_type": "stream",
     "text": [
      "Python Code\n"
     ]
    }
   ],
   "source": [
    "s1=\"Python\"\n",
    "s2=\" Code\"\n",
    "s3=s1+s2\n",
    "print(s3)"
   ]
  },
  {
   "cell_type": "markdown",
   "id": "eecaff42-c378-4e90-8c01-4e92de34c43d",
   "metadata": {},
   "source": [
    "Type Casting"
   ]
  },
  {
   "cell_type": "markdown",
   "id": "f4197372-ce21-44b7-96ca-5e29ec5dfc5f",
   "metadata": {},
   "source": [
    "#int to all datatypes"
   ]
  },
  {
   "cell_type": "code",
   "execution_count": 501,
   "id": "96e5e298-84b8-4173-a24d-7540b4a81433",
   "metadata": {},
   "outputs": [
    {
     "data": {
      "text/plain": [
       "1"
      ]
     },
     "execution_count": 501,
     "metadata": {},
     "output_type": "execute_result"
    }
   ],
   "source": [
    "int(True)"
   ]
  },
  {
   "cell_type": "code",
   "execution_count": 502,
   "id": "01388b1d-3c86-4288-8c30-c7ecdd1fd96f",
   "metadata": {},
   "outputs": [
    {
     "data": {
      "text/plain": [
       "19"
      ]
     },
     "execution_count": 502,
     "metadata": {},
     "output_type": "execute_result"
    }
   ],
   "source": [
    "int(19.4)"
   ]
  },
  {
   "cell_type": "code",
   "execution_count": 503,
   "id": "6056a785-6e47-49b4-9a3f-f924455ca2fd",
   "metadata": {},
   "outputs": [
    {
     "ename": "TypeError",
     "evalue": "int() argument must be a string, a bytes-like object or a real number, not 'complex'",
     "output_type": "error",
     "traceback": [
      "\u001b[1;31m---------------------------------------------------------------------------\u001b[0m",
      "\u001b[1;31mTypeError\u001b[0m                                 Traceback (most recent call last)",
      "Cell \u001b[1;32mIn[503], line 1\u001b[0m\n\u001b[1;32m----> 1\u001b[0m \u001b[38;5;28mint\u001b[39m(\u001b[38;5;241m3\u001b[39m\u001b[38;5;241m+\u001b[39m\u001b[38;5;241m8\u001b[39mj)\n",
      "\u001b[1;31mTypeError\u001b[0m: int() argument must be a string, a bytes-like object or a real number, not 'complex'"
     ]
    }
   ],
   "source": [
    "int(3+8j) #--->typecasting is not possable in int to complex "
   ]
  },
  {
   "cell_type": "code",
   "execution_count": 529,
   "id": "c6d9c03e-db51-470d-b5b0-f43ea1f6ab76",
   "metadata": {},
   "outputs": [
    {
     "ename": "ValueError",
     "evalue": "invalid literal for int() with base 10: 'ten'",
     "output_type": "error",
     "traceback": [
      "\u001b[1;31m---------------------------------------------------------------------------\u001b[0m",
      "\u001b[1;31mValueError\u001b[0m                                Traceback (most recent call last)",
      "Cell \u001b[1;32mIn[529], line 1\u001b[0m\n\u001b[1;32m----> 1\u001b[0m \u001b[38;5;28mint\u001b[39m(\u001b[38;5;124m'\u001b[39m\u001b[38;5;124mten\u001b[39m\u001b[38;5;124m'\u001b[39m)\n",
      "\u001b[1;31mValueError\u001b[0m: invalid literal for int() with base 10: 'ten'"
     ]
    }
   ],
   "source": [
    "int('ten') #In int to string not possable "
   ]
  },
  {
   "cell_type": "code",
   "execution_count": 557,
   "id": "fc3e1dfd-e004-48cc-8e01-7d2a3c3f20ca",
   "metadata": {},
   "outputs": [
    {
     "data": {
      "text/plain": [
       "10"
      ]
     },
     "execution_count": 557,
     "metadata": {},
     "output_type": "execute_result"
    }
   ],
   "source": [
    "int('10') # but string with digit can possable"
   ]
  },
  {
   "cell_type": "markdown",
   "id": "972b2284-05ae-4b07-9a9b-5f2b093fa238",
   "metadata": {},
   "source": [
    "#bool to all datatypes typecasting"
   ]
  },
  {
   "cell_type": "code",
   "execution_count": 560,
   "id": "dd3a6bfd-822a-4dae-a89e-3c2790a91058",
   "metadata": {},
   "outputs": [
    {
     "data": {
      "text/plain": [
       "True"
      ]
     },
     "execution_count": 560,
     "metadata": {},
     "output_type": "execute_result"
    }
   ],
   "source": [
    "bool(1)"
   ]
  },
  {
   "cell_type": "code",
   "execution_count": 561,
   "id": "46d744df-577b-4d99-a3e5-84a7da5aac59",
   "metadata": {},
   "outputs": [
    {
     "data": {
      "text/plain": [
       "True"
      ]
     },
     "execution_count": 561,
     "metadata": {},
     "output_type": "execute_result"
    }
   ],
   "source": [
    "bool(16.3)"
   ]
  },
  {
   "cell_type": "code",
   "execution_count": 562,
   "id": "53423092-c846-4331-9844-80fa35f83ae5",
   "metadata": {},
   "outputs": [
    {
     "data": {
      "text/plain": [
       "True"
      ]
     },
     "execution_count": 562,
     "metadata": {},
     "output_type": "execute_result"
    }
   ],
   "source": [
    "bool(True)"
   ]
  },
  {
   "cell_type": "code",
   "execution_count": 563,
   "id": "7d33f201-b381-4278-b306-9710be922999",
   "metadata": {},
   "outputs": [
    {
     "data": {
      "text/plain": [
       "True"
      ]
     },
     "execution_count": 563,
     "metadata": {},
     "output_type": "execute_result"
    }
   ],
   "source": [
    "bool(4+4j)"
   ]
  },
  {
   "cell_type": "raw",
   "id": "556338ee-f91b-441f-be91-1360e3d81322",
   "metadata": {},
   "source": [
    "# float to all datatypes typecasting"
   ]
  },
  {
   "cell_type": "code",
   "execution_count": 564,
   "id": "4d504295-e594-403c-be7e-6a58edafddcb",
   "metadata": {},
   "outputs": [
    {
     "data": {
      "text/plain": [
       "2.0"
      ]
     },
     "execution_count": 564,
     "metadata": {},
     "output_type": "execute_result"
    }
   ],
   "source": [
    "float(2)"
   ]
  },
  {
   "cell_type": "code",
   "execution_count": 565,
   "id": "daca4617-cf42-4702-b133-c4d9038cbb6d",
   "metadata": {},
   "outputs": [
    {
     "data": {
      "text/plain": [
       "6.3"
      ]
     },
     "execution_count": 565,
     "metadata": {},
     "output_type": "execute_result"
    }
   ],
   "source": [
    "float(6.3)"
   ]
  },
  {
   "cell_type": "code",
   "execution_count": 566,
   "id": "b5b587f7-5014-471a-97aa-5252dfa19619",
   "metadata": {},
   "outputs": [
    {
     "data": {
      "text/plain": [
       "1.0"
      ]
     },
     "execution_count": 566,
     "metadata": {},
     "output_type": "execute_result"
    }
   ],
   "source": [
    "float(True)"
   ]
  },
  {
   "cell_type": "code",
   "execution_count": 567,
   "id": "5d4fdf80-865c-461c-8d8f-ca83fd76d863",
   "metadata": {},
   "outputs": [
    {
     "ename": "ValueError",
     "evalue": "could not convert string to float: 'ten'",
     "output_type": "error",
     "traceback": [
      "\u001b[1;31m---------------------------------------------------------------------------\u001b[0m",
      "\u001b[1;31mValueError\u001b[0m                                Traceback (most recent call last)",
      "Cell \u001b[1;32mIn[567], line 1\u001b[0m\n\u001b[1;32m----> 1\u001b[0m \u001b[38;5;28mfloat\u001b[39m(\u001b[38;5;124m'\u001b[39m\u001b[38;5;124mten\u001b[39m\u001b[38;5;124m'\u001b[39m)\n",
      "\u001b[1;31mValueError\u001b[0m: could not convert string to float: 'ten'"
     ]
    }
   ],
   "source": [
    "float('ten')   #In float to string not possable"
   ]
  },
  {
   "cell_type": "code",
   "execution_count": 597,
   "id": "9b2997b4-f2e5-4c76-b281-19c1e9a86aa8",
   "metadata": {},
   "outputs": [
    {
     "data": {
      "text/plain": [
       "10.0"
      ]
     },
     "execution_count": 597,
     "metadata": {},
     "output_type": "execute_result"
    }
   ],
   "source": [
    "float('10')  # but string with digit can possable"
   ]
  },
  {
   "cell_type": "code",
   "execution_count": 598,
   "id": "9adc2ef2-3215-41b7-93c2-278f110f1b40",
   "metadata": {},
   "outputs": [
    {
     "ename": "TypeError",
     "evalue": "float() argument must be a string or a real number, not 'complex'",
     "output_type": "error",
     "traceback": [
      "\u001b[1;31m---------------------------------------------------------------------------\u001b[0m",
      "\u001b[1;31mTypeError\u001b[0m                                 Traceback (most recent call last)",
      "Cell \u001b[1;32mIn[598], line 1\u001b[0m\n\u001b[1;32m----> 1\u001b[0m \u001b[38;5;28mfloat\u001b[39m(\u001b[38;5;241m2\u001b[39m\u001b[38;5;241m+\u001b[39m\u001b[38;5;241m6\u001b[39mj)\n",
      "\u001b[1;31mTypeError\u001b[0m: float() argument must be a string or a real number, not 'complex'"
     ]
    }
   ],
   "source": [
    "float(2+6j)  # float to complex not possable"
   ]
  },
  {
   "cell_type": "raw",
   "id": "da53256b-89ff-4ce2-8d00-2559664e12ad",
   "metadata": {},
   "source": [
    "# string to all datatypes typecasting"
   ]
  },
  {
   "cell_type": "code",
   "execution_count": 622,
   "id": "71fa4ac9-8685-4c8d-83b3-73221424e4b5",
   "metadata": {},
   "outputs": [
    {
     "data": {
      "text/plain": [
       "'10'"
      ]
     },
     "execution_count": 622,
     "metadata": {},
     "output_type": "execute_result"
    }
   ],
   "source": [
    "str('10')"
   ]
  },
  {
   "cell_type": "code",
   "execution_count": 623,
   "id": "76ffc20d-1935-4e7a-8c47-390387d4d852",
   "metadata": {},
   "outputs": [
    {
     "data": {
      "text/plain": [
       "'8.4'"
      ]
     },
     "execution_count": 623,
     "metadata": {},
     "output_type": "execute_result"
    }
   ],
   "source": [
    "str('8.4')"
   ]
  },
  {
   "cell_type": "code",
   "execution_count": 624,
   "id": "991a13f4-5cf3-465a-ae2f-70c1b9b01756",
   "metadata": {},
   "outputs": [
    {
     "data": {
      "text/plain": [
       "'Hello World'"
      ]
     },
     "execution_count": 624,
     "metadata": {},
     "output_type": "execute_result"
    }
   ],
   "source": [
    "str('Hello World')"
   ]
  },
  {
   "cell_type": "code",
   "execution_count": 625,
   "id": "6eca1d25-ac5e-445e-893e-a9ce835fa7d7",
   "metadata": {},
   "outputs": [
    {
     "data": {
      "text/plain": [
       "'2+4j'"
      ]
     },
     "execution_count": 625,
     "metadata": {},
     "output_type": "execute_result"
    }
   ],
   "source": [
    "str('2+4j')"
   ]
  },
  {
   "cell_type": "raw",
   "id": "f009f879-2166-4de6-be12-f87e7bd51e7d",
   "metadata": {},
   "source": [
    "# complex to all datatypes typecasting"
   ]
  },
  {
   "cell_type": "code",
   "execution_count": 626,
   "id": "a5cd2820-aea7-497f-be68-fa47cb3c7589",
   "metadata": {},
   "outputs": [
    {
     "data": {
      "text/plain": [
       "(10+0j)"
      ]
     },
     "execution_count": 626,
     "metadata": {},
     "output_type": "execute_result"
    }
   ],
   "source": [
    "complex(10)"
   ]
  },
  {
   "cell_type": "code",
   "execution_count": 627,
   "id": "ec1196ad-e846-4a3d-9de0-ba57f9aa946e",
   "metadata": {},
   "outputs": [
    {
     "data": {
      "text/plain": [
       "(15.5+0j)"
      ]
     },
     "execution_count": 627,
     "metadata": {},
     "output_type": "execute_result"
    }
   ],
   "source": [
    "complex(15.5)"
   ]
  },
  {
   "cell_type": "code",
   "execution_count": 628,
   "id": "94980ac7-f3b1-431f-b3a8-a941f8a70c89",
   "metadata": {},
   "outputs": [
    {
     "data": {
      "text/plain": [
       "(1+3j)"
      ]
     },
     "execution_count": 628,
     "metadata": {},
     "output_type": "execute_result"
    }
   ],
   "source": [
    "complex(1+3j)"
   ]
  },
  {
   "cell_type": "code",
   "execution_count": 629,
   "id": "5e36efc3-5a0f-41f4-9dd1-9cc9eb08ed39",
   "metadata": {},
   "outputs": [
    {
     "data": {
      "text/plain": [
       "(10+0j)"
      ]
     },
     "execution_count": 629,
     "metadata": {},
     "output_type": "execute_result"
    }
   ],
   "source": [
    "complex(\"10\")"
   ]
  },
  {
   "cell_type": "code",
   "execution_count": 630,
   "id": "6de72761-816b-4df0-b04d-12f4c278504d",
   "metadata": {},
   "outputs": [
    {
     "ename": "ValueError",
     "evalue": "complex() arg is a malformed string",
     "output_type": "error",
     "traceback": [
      "\u001b[1;31m---------------------------------------------------------------------------\u001b[0m",
      "\u001b[1;31mValueError\u001b[0m                                Traceback (most recent call last)",
      "Cell \u001b[1;32mIn[630], line 1\u001b[0m\n\u001b[1;32m----> 1\u001b[0m \u001b[38;5;28mcomplex\u001b[39m(\u001b[38;5;124m\"\u001b[39m\u001b[38;5;124mten\u001b[39m\u001b[38;5;124m\"\u001b[39m)\n",
      "\u001b[1;31mValueError\u001b[0m: complex() arg is a malformed string"
     ]
    }
   ],
   "source": [
    "complex(\"ten\")   # In complex to string not possable"
   ]
  },
  {
   "cell_type": "raw",
   "id": "01f428cf-0877-4e7a-85f4-66276feb05a0",
   "metadata": {},
   "source": [
    "#Operator\n",
    "\n",
    "- Arithmetic op [+,-,*,\\,\\\\,**]\n",
    "- Assignment op\n",
    "- Logical op\n",
    "- Unary op"
   ]
  },
  {
   "cell_type": "markdown",
   "id": "b2b25122-08af-40b7-aed7-41bd161e1cd9",
   "metadata": {},
   "source": [
    "- Arithmetic Operator [+,-,*,\\,\\\\,**]"
   ]
  },
  {
   "cell_type": "code",
   "execution_count": 654,
   "id": "c8da0f6c-71db-41fe-b8f5-e785780131cf",
   "metadata": {},
   "outputs": [
    {
     "name": "stdout",
     "output_type": "stream",
     "text": [
      "5\n",
      "1\n",
      "6\n",
      "1.5\n",
      "9\n",
      "1\n",
      "1\n"
     ]
    }
   ],
   "source": [
    "print(3 + 2)   # addition(+)\n",
    "print(3 - 2)   # subtraction(-)\n",
    "print(3 * 2)   # multiplication(*)\n",
    "print(3 / 2)   # division(/)\n",
    "print(3 ** 2)  # exponential(**)\n",
    "print(3 % 2)   # modulus(%)\n",
    "print(3 // 2)  # Floor division operator(//)"
   ]
  },
  {
   "cell_type": "code",
   "execution_count": 655,
   "id": "f8a93a06-186b-4d94-b05b-2cbd00efae8c",
   "metadata": {},
   "outputs": [
    {
     "name": "stdout",
     "output_type": "stream",
     "text": [
      "total of a&b: 9\n",
      "difference of a&b: 3\n",
      "prodect of a&b: 18\n",
      "division of a&b: 2.0\n",
      "reminder of a&b: 0\n",
      "floordivision of a&b: 2\n",
      "exponential of a&b: 216\n"
     ]
    }
   ],
   "source": [
    "a=6\n",
    "b=3\n",
    "\n",
    "total = a+b\n",
    "diff = a-b\n",
    "prodect = a*b\n",
    "division = a/b\n",
    "reminder = a%b\n",
    "floordivision = a//b\n",
    "exponential = a**b\n",
    "\n",
    "print('total of a&b:',total)\n",
    "print('difference of a&b:',diff)\n",
    "print('prodect of a&b:',prodect)\n",
    "print('division of a&b:',division)\n",
    "print('reminder of a&b:',reminder)\n",
    "print('floordivision of a&b:',floordivision)\n",
    "print('exponential of a&b:',exponential)"
   ]
  },
  {
   "cell_type": "code",
   "execution_count": 656,
   "id": "61426a9f-23cc-46bd-9e44-b9de2efab172",
   "metadata": {},
   "outputs": [
    {
     "name": "stdout",
     "output_type": "stream",
     "text": [
      "Area of a circle: 314.0\n"
     ]
    }
   ],
   "source": [
    "# Calculating area of a circle\n",
    "radius = 10                                \n",
    "area_of_circle = 3.14 * radius ** 2        \n",
    "print('Area of a circle:', area_of_circle)"
   ]
  },
  {
   "cell_type": "markdown",
   "id": "f2c43b94-700c-4fb8-9d0c-06f5e8b71743",
   "metadata": {},
   "source": [
    "- Relational operator  # <,>,,=,!=."
   ]
  },
  {
   "cell_type": "code",
   "execution_count": 658,
   "id": "7e6f89a0-77b9-4464-92fd-51b664f07f95",
   "metadata": {},
   "outputs": [
    {
     "name": "stdout",
     "output_type": "stream",
     "text": [
      "True\n",
      "True\n",
      "False\n",
      "True\n",
      "True\n",
      "False\n",
      "True\n"
     ]
    }
   ],
   "source": [
    "print(3 > 2)     \n",
    "print(3 >= 2)    \n",
    "print(3 < 2)     \n",
    "print(2 < 3)     \n",
    "print(2 <= 3)    \n",
    "print(3 == 2)    \n",
    "print(3 != 2)"
   ]
  },
  {
   "cell_type": "code",
   "execution_count": 659,
   "id": "b31686a9-8c1a-45a4-a7a7-725d9ae9a76b",
   "metadata": {},
   "outputs": [
    {
     "name": "stdout",
     "output_type": "stream",
     "text": [
      "False\n",
      "True\n"
     ]
    }
   ],
   "source": [
    "print(len('mango') == len('avocado')) \n",
    "print(len('mango') != len('milk'))"
   ]
  },
  {
   "cell_type": "code",
   "execution_count": 660,
   "id": "8a7e2866-f18e-4ead-908f-7356be83e0d9",
   "metadata": {},
   "outputs": [
    {
     "name": "stdout",
     "output_type": "stream",
     "text": [
      "True\n",
      "False\n"
     ]
    }
   ],
   "source": [
    "print(len('tomato') == len('potato'))  \n",
    "print(len('python') > len('dragon'))   "
   ]
  },
  {
   "cell_type": "code",
   "execution_count": 661,
   "id": "f2643329-caea-450f-ba44-126689527ea8",
   "metadata": {},
   "outputs": [
    {
     "name": "stdout",
     "output_type": "stream",
     "text": [
      "True == True:  True\n",
      "True == False:  False\n"
     ]
    }
   ],
   "source": [
    "print('True == True: ', True == True)\n",
    "print('True == False: ', True == False)"
   ]
  },
  {
   "cell_type": "code",
   "execution_count": 662,
   "id": "7d14e5e3-0597-452c-b2f0-b0b0a9fec66f",
   "metadata": {},
   "outputs": [
    {
     "name": "stdout",
     "output_type": "stream",
     "text": [
      "1 is 1 True\n",
      "1 is not 2 True\n",
      "A in Asabeneh True\n",
      "B in Asabeneh False\n",
      "True\n",
      "a in an: True\n",
      "4 is 2 ** 2: True\n"
     ]
    },
    {
     "name": "stderr",
     "output_type": "stream",
     "text": [
      "<>:2: SyntaxWarning: \"is\" with 'int' literal. Did you mean \"==\"?\n",
      "<>:3: SyntaxWarning: \"is not\" with 'int' literal. Did you mean \"!=\"?\n",
      "<>:8: SyntaxWarning: \"is\" with 'int' literal. Did you mean \"==\"?\n",
      "<>:2: SyntaxWarning: \"is\" with 'int' literal. Did you mean \"==\"?\n",
      "<>:3: SyntaxWarning: \"is not\" with 'int' literal. Did you mean \"!=\"?\n",
      "<>:8: SyntaxWarning: \"is\" with 'int' literal. Did you mean \"==\"?\n",
      "C:\\Users\\kench\\AppData\\Local\\Temp\\ipykernel_5960\\504503288.py:2: SyntaxWarning: \"is\" with 'int' literal. Did you mean \"==\"?\n",
      "  print('1 is 1', 1 is 1)                   # True - because the data values are the same\n",
      "C:\\Users\\kench\\AppData\\Local\\Temp\\ipykernel_5960\\504503288.py:3: SyntaxWarning: \"is not\" with 'int' literal. Did you mean \"!=\"?\n",
      "  print('1 is not 2', 1 is not 2)           # True - because 1 is not 2\n",
      "C:\\Users\\kench\\AppData\\Local\\Temp\\ipykernel_5960\\504503288.py:8: SyntaxWarning: \"is\" with 'int' literal. Did you mean \"==\"?\n",
      "  print('4 is 2 ** 2:', 4 is 2 ** 2)        # True\n"
     ]
    }
   ],
   "source": [
    "# Another way comparison \n",
    "print('1 is 1', 1 is 1)                   # True - because the data values are the same\n",
    "print('1 is not 2', 1 is not 2)           # True - because 1 is not 2\n",
    "print('A in Asabeneh', 'A' in 'Asabeneh') # True - A found in the string\n",
    "print('B in Asabeneh', 'B' in 'Asabeneh') # False -there is no uppercase B\n",
    "print('coding' in 'coding for all')       # True - because coding for all has the word coding\n",
    "print('a in an:', 'a' in 'an')            # True\n",
    "print('4 is 2 ** 2:', 4 is 2 ** 2)        # True"
   ]
  },
  {
   "cell_type": "markdown",
   "id": "3cc90538-c2ab-4110-8bb7-befd7eafaa61",
   "metadata": {},
   "source": [
    ".Logical operator  # AND,OR,NOT."
   ]
  },
  {
   "cell_type": "code",
   "execution_count": 664,
   "id": "7ae038f6-ff5b-42b9-acaf-947d1a1156ae",
   "metadata": {},
   "outputs": [
    {
     "name": "stdout",
     "output_type": "stream",
     "text": [
      "3 > 2 and 4 > 3: True\n",
      "3 > 2 and 4 < 3: False\n",
      "3 < 2 and 4 < 3: False\n"
     ]
    }
   ],
   "source": [
    "# In Relationship operator 'and' will True when both condition are True and other conditions are Fales\n",
    "print('3 > 2 and 4 > 3:',(3 > 2 and 4 > 3)) # True - because both statements are true\n",
    "print('3 > 2 and 4 < 3:',(3 > 2 and 4 < 3)) # False - because the second statement is false\n",
    "print('3 < 2 and 4 < 3:',(3 < 2 and 4 < 3)) # False - because both statements are false"
   ]
  },
  {
   "cell_type": "code",
   "execution_count": 665,
   "id": "37e9dbea-d06b-4a91-8eb4-1462fdcc3b91",
   "metadata": {},
   "outputs": [
    {
     "name": "stdout",
     "output_type": "stream",
     "text": [
      "3 > 2 or 4 > 3: True\n",
      "3 > 2 or 4 < 3: True\n",
      "3 < 2 or 4 < 3: False\n"
     ]
    }
   ],
   "source": [
    "# In Relationship operator 'or' will False when both condition are False and other conditions are True\n",
    "print('3 > 2 or 4 > 3:',(3 > 2 or 4 > 3))  # True - because both statements are true\n",
    "print('3 > 2 or 4 < 3:',(3 > 2 or 4 < 3))  # True - because one of the statement is true\n",
    "print('3 < 2 or 4 < 3:',(3 < 2 or 4 < 3))  # False - because both statements are false"
   ]
  },
  {
   "cell_type": "code",
   "execution_count": 666,
   "id": "c7c2555c-0b0d-4ff9-955f-52f16aa6e219",
   "metadata": {},
   "outputs": [
    {
     "name": "stdout",
     "output_type": "stream",
     "text": [
      "True AND True:  True\n",
      "True OR False:  True\n"
     ]
    }
   ],
   "source": [
    "print('True AND True: ', True and True)\n",
    "print('True OR False: ', True or False)"
   ]
  },
  {
   "cell_type": "code",
   "execution_count": 667,
   "id": "e527f008-081f-43b5-8442-ef370a29e865",
   "metadata": {},
   "outputs": [
    {
     "name": "stdout",
     "output_type": "stream",
     "text": [
      "True OR True:  True\n",
      "True AND False:  False\n"
     ]
    }
   ],
   "source": [
    "print('True OR True: ', True or True)\n",
    "print('True AND False: ', True and False)"
   ]
  },
  {
   "cell_type": "code",
   "execution_count": 668,
   "id": "e6c54fd2-3d04-4504-9122-ca4ac33d945a",
   "metadata": {},
   "outputs": [
    {
     "name": "stdout",
     "output_type": "stream",
     "text": [
      "True AND True:  True\n",
      "True OR False:  True\n"
     ]
    }
   ],
   "source": [
    "print('True AND True: ', True and True)\n",
    "print('True OR False: ', True or False)"
   ]
  },
  {
   "cell_type": "code",
   "execution_count": 669,
   "id": "036e595f-5d2b-4907-8224-a933be821fff",
   "metadata": {},
   "outputs": [
    {
     "name": "stdout",
     "output_type": "stream",
     "text": [
      "not 3 > 2: False\n",
      "not True: False\n",
      "not False: True\n",
      "not not True: True\n",
      "not not False: False\n"
     ]
    }
   ],
   "source": [
    "print('not 3 > 2:',(not 3 > 2))            # False - because 3 > 2 is true, then not True gives False\n",
    "print('not True:',(not True))              # False - Negation, the not operator turns true to false\n",
    "print('not False:',(not False))            # True\n",
    "print('not not True:',(not not True))      # True\n",
    "print('not not False:',(not not False))    # False"
   ]
  },
  {
   "cell_type": "markdown",
   "id": "213bb568-8ecd-4d30-a5f6-4b4a9d9b5fde",
   "metadata": {},
   "source": [
    "-Assignment operator  "
   ]
  },
  {
   "cell_type": "code",
   "execution_count": 671,
   "id": "51748a18-0ca3-462d-84ff-79ced2ae9e76",
   "metadata": {},
   "outputs": [
    {
     "data": {
      "text/plain": [
       "8"
      ]
     },
     "execution_count": 671,
     "metadata": {},
     "output_type": "execute_result"
    }
   ],
   "source": [
    " #+=,-=,*=,/=,//=\n",
    "a+=2\n",
    "a"
   ]
  },
  {
   "cell_type": "code",
   "execution_count": 672,
   "id": "63f4107b-cdbe-4521-a579-7d7ccb097100",
   "metadata": {},
   "outputs": [
    {
     "data": {
      "text/plain": [
       "9"
      ]
     },
     "execution_count": 672,
     "metadata": {},
     "output_type": "execute_result"
    }
   ],
   "source": [
    "b*=3\n",
    "#b=2*2*2\n",
    "b"
   ]
  },
  {
   "cell_type": "code",
   "execution_count": 673,
   "id": "33396832-357a-4b02-876d-1f10a46d5f91",
   "metadata": {},
   "outputs": [
    {
     "data": {
      "text/plain": [
       "76"
      ]
     },
     "execution_count": 673,
     "metadata": {},
     "output_type": "execute_result"
    }
   ],
   "source": [
    "c-=2\n",
    "c"
   ]
  },
  {
   "cell_type": "code",
   "execution_count": 674,
   "id": "44fc4cd2-0c74-4560-8c4d-e596205d00e1",
   "metadata": {},
   "outputs": [
    {
     "data": {
      "text/plain": [
       "19.5"
      ]
     },
     "execution_count": 674,
     "metadata": {},
     "output_type": "execute_result"
    }
   ],
   "source": [
    "d/=4\n",
    "d"
   ]
  },
  {
   "cell_type": "code",
   "execution_count": 675,
   "id": "870c8de0-6e46-483f-a92f-1247a5353092",
   "metadata": {},
   "outputs": [
    {
     "data": {
      "text/plain": [
       "2.0"
      ]
     },
     "execution_count": 675,
     "metadata": {},
     "output_type": "execute_result"
    }
   ],
   "source": [
    "d//=9\n",
    "d"
   ]
  },
  {
   "cell_type": "markdown",
   "id": "17020eba-c245-464b-b994-8fb296a5b6f8",
   "metadata": {},
   "source": [
    "-Unary Operator"
   ]
  },
  {
   "cell_type": "code",
   "execution_count": 677,
   "id": "e4d709ad-b5c3-4adb-8ab6-6ac9f6193ab6",
   "metadata": {},
   "outputs": [
    {
     "data": {
      "text/plain": [
       "7"
      ]
     },
     "execution_count": 677,
     "metadata": {},
     "output_type": "execute_result"
    }
   ],
   "source": [
    "#-(n)=>-(7)=-7\n",
    "n=7\n",
    "n"
   ]
  },
  {
   "cell_type": "code",
   "execution_count": 678,
   "id": "a5a76b6f-b64e-41be-9471-0fdea00bce55",
   "metadata": {},
   "outputs": [
    {
     "data": {
      "text/plain": [
       "-7"
      ]
     },
     "execution_count": 678,
     "metadata": {},
     "output_type": "execute_result"
    }
   ],
   "source": [
    "m = -(n)\n",
    "m"
   ]
  },
  {
   "cell_type": "code",
   "execution_count": 679,
   "id": "048acfe0-df1a-468a-b48d-7de4d8b6a374",
   "metadata": {},
   "outputs": [
    {
     "data": {
      "text/plain": [
       "-7"
      ]
     },
     "execution_count": 679,
     "metadata": {},
     "output_type": "execute_result"
    }
   ],
   "source": [
    "-n"
   ]
  },
  {
   "cell_type": "code",
   "execution_count": 680,
   "id": "6e8bfc46-34ac-4284-bb31-2917b5fc457d",
   "metadata": {},
   "outputs": [
    {
     "data": {
      "text/plain": [
       "7"
      ]
     },
     "execution_count": 680,
     "metadata": {},
     "output_type": "execute_result"
    }
   ],
   "source": [
    "f = -(-n)\n",
    "f"
   ]
  },
  {
   "cell_type": "markdown",
   "id": "097dd156-301a-4436-818c-98170d4bee2b",
   "metadata": {},
   "source": [
    "__Identifiers__"
   ]
  },
  {
   "cell_type": "code",
   "execution_count": 682,
   "id": "8a3b21ae-b320-4aab-bd63-67fbd83e91ff",
   "metadata": {},
   "outputs": [],
   "source": [
    "#Variablen identifier\n",
    "age = 30\n",
    "colour = 'black'"
   ]
  },
  {
   "cell_type": "code",
   "execution_count": null,
   "id": "1336f8f3-42fc-4f9a-843c-600ab48fa544",
   "metadata": {},
   "outputs": [],
   "source": [
    "#Function identifier\n",
    "def greet(name):\n",
    "    print(Hello!)      #greet is identifier"
   ]
  },
  {
   "cell_type": "code",
   "execution_count": null,
   "id": "42bec1a4-eb86-4349-a3f3-ff1363fad886",
   "metadata": {},
   "outputs": [],
   "source": [
    "#Class identifier \n",
    "class car:\n",
    "    def__int__ ()     #car is identifier "
   ]
  },
  {
   "cell_type": "code",
   "execution_count": null,
   "id": "bb142c40-6d4c-4dd0-a65a-4a44202ed933",
   "metadata": {},
   "outputs": [],
   "source": [
    "#Module identifier\n",
    "import math\n",
    "print(math.pi)        #math"
   ]
  },
  {
   "cell_type": "markdown",
   "id": "a75df552-9945-4415-bb5b-02ec5b7ff0de",
   "metadata": {},
   "source": [
    "__String Methods__"
   ]
  },
  {
   "cell_type": "code",
   "execution_count": 686,
   "id": "67c26bad-7de2-42a0-a63e-38fddc6f8f27",
   "metadata": {},
   "outputs": [
    {
     "name": "stdout",
     "output_type": "stream",
     "text": [
      "capitalize: Thirty days of python\n"
     ]
    }
   ],
   "source": [
    "# capitalize(): Converts the first character the string to Capital Letter\n",
    "challenge = 'thirty days of python'\n",
    "print('capitalize:',challenge.capitalize()) "
   ]
  },
  {
   "cell_type": "code",
   "execution_count": 687,
   "id": "1cc0e994-286a-4ebf-a942-bd344b8982cd",
   "metadata": {},
   "outputs": [
    {
     "name": "stdout",
     "output_type": "stream",
     "text": [
      "count of y: 3\n",
      "count of th: 2\n"
     ]
    }
   ],
   "source": [
    "# count(): returns occurrences of substring in string, count(substring, start=.., end=..)\n",
    "print('count of y:',challenge.count('y'))\n",
    "print('count of th:',challenge.count('th'))"
   ]
  },
  {
   "cell_type": "code",
   "execution_count": 688,
   "id": "ed17b22c-feb8-4811-88f4-55c2fdfca777",
   "metadata": {},
   "outputs": [
    {
     "name": "stdout",
     "output_type": "stream",
     "text": [
      "True\n",
      "False\n"
     ]
    }
   ],
   "source": [
    "# endswith(): Checks if a string ends with a specified ending\n",
    "print(challenge.endswith('on'))   \n",
    "print(challenge.endswith('tion')) "
   ]
  },
  {
   "cell_type": "code",
   "execution_count": 689,
   "id": "286a85d1-98b3-49dd-9ac2-16bcddcc116b",
   "metadata": {},
   "outputs": [
    {
     "name": "stdout",
     "output_type": "stream",
     "text": [
      "thirty days of python\n",
      "thirty days of python\n"
     ]
    }
   ],
   "source": [
    "# expandtabs(): Replaces tab character with spaces, default tab size is 8. It takes tab size argument\n",
    "challenge = 'thirty days of python'\n",
    "print(challenge.expandtabs( ))   \n",
    "print(challenge.expandtabs(10)) "
   ]
  },
  {
   "cell_type": "code",
   "execution_count": 690,
   "id": "17ffdebc-1ad5-425d-8dee-7d61929ab468",
   "metadata": {},
   "outputs": [
    {
     "name": "stdout",
     "output_type": "stream",
     "text": [
      "2\n",
      "15\n"
     ]
    }
   ],
   "source": [
    "# find(): Returns the index of first occurrence of substring\n",
    "print(challenge.find('i'))  \n",
    "print(challenge.find('p')) "
   ]
  }
 ],
 "metadata": {
  "kernelspec": {
   "display_name": "Python [conda env:base] *",
   "language": "python",
   "name": "conda-base-py"
  },
  "language_info": {
   "codemirror_mode": {
    "name": "ipython",
    "version": 3
   },
   "file_extension": ".py",
   "mimetype": "text/x-python",
   "name": "python",
   "nbconvert_exporter": "python",
   "pygments_lexer": "ipython3",
   "version": "3.12.7"
  }
 },
 "nbformat": 4,
 "nbformat_minor": 5
}
